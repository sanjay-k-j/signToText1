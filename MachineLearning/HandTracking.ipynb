{
 "cells": [
  {
   "cell_type": "code",
   "execution_count": null,
   "metadata": {},
   "outputs": [],
   "source": [
    "import cv2\n",
    "import mediapipe as mp\n",
    "import time\n",
    "from time import sleep\n",
    "import sys\n",
    "\n",
    "cap = cv2.VideoCapture(0)\n",
    "\n",
    "mpHands = mp. solutions. hands\n",
    "hands = mpHands. Hands ()\n",
    "mpDraw = mp.solutions.drawing_utils\n",
    "\n",
    "prevTime = 0\n",
    "currTime = 0\n",
    "\n",
    "while True:\n",
    "  success, img = cap.read()\n",
    "  imgRGB = cv2.cvtColor(img, cv2.COLOR_BGR2RGB)\n",
    "  print(imgRGB)\n",
    "  results = hands.process(imgRGB)\n",
    "\n",
    "  if results.multi_hand_landmarks:\n",
    "    for handLms in results.multi_hand_landmarks:\n",
    "      for id, lm in enumerate(handLms.landmark):\n",
    "        #print(id,lm)\n",
    "        h,w,c = img.shape\n",
    "        cx, cy = int(lm.x*w), int(lm.y*h)\n",
    "        print(id, cx, cy)\n",
    "        #if id == 3:\n",
    "        cv2.circle(img, (cx,cy), 15, (255,255,0), cv2.FILLED)\n",
    "      mpDraw.draw_landmarks(img, handLms, mpHands.HAND_CONNECTIONS)\n",
    "\n",
    "    \n",
    "\n",
    "  \n",
    "  currTime = time.time()\n",
    "  fps = 1/(currTime-prevTime)\n",
    "  prevTime = currTime\n",
    "\n",
    "  cv2.putText(img, str(int(fps)),(10,70), cv2.FONT_HERSHEY_PLAIN, 3, (0,255,0), 3)\n",
    "\n",
    "\n",
    "  cv2.imshow(\"Image\", img)\n",
    "  cv2.waitKey(1)"
   ]
  },
  {
   "cell_type": "code",
   "execution_count": null,
   "metadata": {},
   "outputs": [],
   "source": [
    "import cv2\n",
    "import time\n",
    "import numpy as np\n",
    "\n",
    "cap = cv2.VideoCapture(0)\n",
    "\n",
    "while True:\n",
    "    \n",
    "\n"
   ]
  }
 ],
 "metadata": {
  "kernelspec": {
   "display_name": "mp_env",
   "language": "python",
   "name": "python3"
  },
  "language_info": {
   "codemirror_mode": {
    "name": "ipython",
    "version": 3
   },
   "file_extension": ".py",
   "mimetype": "text/x-python",
   "name": "python",
   "nbconvert_exporter": "python",
   "pygments_lexer": "ipython3",
   "version": "3.11.2"
  },
  "orig_nbformat": 4
 },
 "nbformat": 4,
 "nbformat_minor": 2
}
