{
 "cells": [
  {
   "cell_type": "code",
   "execution_count": 1,
   "metadata": {},
   "outputs": [
    {
     "name": "stderr",
     "output_type": "stream",
     "text": [
      "objc[39930]: Class CaptureDelegate is implemented in both /Users/shreysid/Downloads/MachineLearning/mp_env/lib/python3.11/site-packages/cv2/cv2.abi3.so (0x161fb25a0) and /Users/shreysid/Downloads/MachineLearning/mp_env/lib/python3.11/site-packages/mediapipe/.dylibs/libopencv_videoio.3.4.16.dylib (0x144fdc860). One of the two will be used. Which one is undefined.\n",
      "objc[39930]: Class CVWindow is implemented in both /Users/shreysid/Downloads/MachineLearning/mp_env/lib/python3.11/site-packages/cv2/cv2.abi3.so (0x161fb25f0) and /Users/shreysid/Downloads/MachineLearning/mp_env/lib/python3.11/site-packages/mediapipe/.dylibs/libopencv_highgui.3.4.16.dylib (0x1147cca68). One of the two will be used. Which one is undefined.\n",
      "objc[39930]: Class CVView is implemented in both /Users/shreysid/Downloads/MachineLearning/mp_env/lib/python3.11/site-packages/cv2/cv2.abi3.so (0x161fb2618) and /Users/shreysid/Downloads/MachineLearning/mp_env/lib/python3.11/site-packages/mediapipe/.dylibs/libopencv_highgui.3.4.16.dylib (0x1147cca90). One of the two will be used. Which one is undefined.\n",
      "objc[39930]: Class CVSlider is implemented in both /Users/shreysid/Downloads/MachineLearning/mp_env/lib/python3.11/site-packages/cv2/cv2.abi3.so (0x161fb2640) and /Users/shreysid/Downloads/MachineLearning/mp_env/lib/python3.11/site-packages/mediapipe/.dylibs/libopencv_highgui.3.4.16.dylib (0x1147ccab8). One of the two will be used. Which one is undefined.\n",
      "OpenCV: out device of bound (0-0): 1\n",
      "OpenCV: camera failed to properly initialize!\n"
     ]
    },
    {
     "ename": "TypeError",
     "evalue": "create_int(): incompatible function arguments. The following argument types are supported:\n    1. (arg0: int) -> mediapipe.python._framework_bindings.packet.Packet\n\nInvoked with: 0.5",
     "output_type": "error",
     "traceback": [
      "\u001b[0;31m---------------------------------------------------------------------------\u001b[0m",
      "\u001b[0;31mTypeError\u001b[0m                                 Traceback (most recent call last)",
      "Cell \u001b[0;32mIn[1], line 56\u001b[0m\n\u001b[1;32m     54\u001b[0m         cv2\u001b[39m.\u001b[39mwaitKey(\u001b[39m1\u001b[39m)\n\u001b[1;32m     55\u001b[0m \u001b[39mif\u001b[39;00m \u001b[39m__name__\u001b[39m \u001b[39m==\u001b[39m \u001b[39m\"\u001b[39m\u001b[39m__main__\u001b[39m\u001b[39m\"\u001b[39m:\n\u001b[0;32m---> 56\u001b[0m     main()\n",
      "Cell \u001b[0;32mIn[1], line 41\u001b[0m, in \u001b[0;36mmain\u001b[0;34m()\u001b[0m\n\u001b[1;32m     39\u001b[0m cTime \u001b[39m=\u001b[39m \u001b[39m0\u001b[39m\n\u001b[1;32m     40\u001b[0m cap \u001b[39m=\u001b[39m cv2\u001b[39m.\u001b[39mVideoCapture(\u001b[39m1\u001b[39m)\n\u001b[0;32m---> 41\u001b[0m detector \u001b[39m=\u001b[39m handDetector()\n\u001b[1;32m     42\u001b[0m \u001b[39mwhile\u001b[39;00m \u001b[39mTrue\u001b[39;00m:\n\u001b[1;32m     43\u001b[0m     success, img \u001b[39m=\u001b[39m cap\u001b[39m.\u001b[39mread()\n",
      "Cell \u001b[0;32mIn[1], line 11\u001b[0m, in \u001b[0;36mhandDetector.__init__\u001b[0;34m(self, mode, maxHands, detectionCon, trackCon)\u001b[0m\n\u001b[1;32m      9\u001b[0m \u001b[39mself\u001b[39m\u001b[39m.\u001b[39mtrackCon \u001b[39m=\u001b[39m trackCon\n\u001b[1;32m     10\u001b[0m \u001b[39mself\u001b[39m\u001b[39m.\u001b[39mmpHands \u001b[39m=\u001b[39m mp\u001b[39m.\u001b[39msolutions\u001b[39m.\u001b[39mhands\n\u001b[0;32m---> 11\u001b[0m \u001b[39mself\u001b[39m\u001b[39m.\u001b[39mhands \u001b[39m=\u001b[39m \u001b[39mself\u001b[39;49m\u001b[39m.\u001b[39;49mmpHands\u001b[39m.\u001b[39;49mHands(\u001b[39mself\u001b[39;49m\u001b[39m.\u001b[39;49mmode, \u001b[39mself\u001b[39;49m\u001b[39m.\u001b[39;49mmaxHands,\n\u001b[1;32m     12\u001b[0m                                 \u001b[39mself\u001b[39;49m\u001b[39m.\u001b[39;49mdetectionCon, \u001b[39mself\u001b[39;49m\u001b[39m.\u001b[39;49mtrackCon)\n\u001b[1;32m     13\u001b[0m \u001b[39mself\u001b[39m\u001b[39m.\u001b[39mmpDraw \u001b[39m=\u001b[39m mp\u001b[39m.\u001b[39msolutions\u001b[39m.\u001b[39mdrawing_utils\n",
      "File \u001b[0;32m~/Downloads/MachineLearning/mp_env/lib/python3.11/site-packages/mediapipe/python/solutions/hands.py:114\u001b[0m, in \u001b[0;36mHands.__init__\u001b[0;34m(self, static_image_mode, max_num_hands, model_complexity, min_detection_confidence, min_tracking_confidence)\u001b[0m\n\u001b[1;32m     89\u001b[0m \u001b[39mdef\u001b[39;00m \u001b[39m__init__\u001b[39m(\u001b[39mself\u001b[39m,\n\u001b[1;32m     90\u001b[0m              static_image_mode\u001b[39m=\u001b[39m\u001b[39mFalse\u001b[39;00m,\n\u001b[1;32m     91\u001b[0m              max_num_hands\u001b[39m=\u001b[39m\u001b[39m2\u001b[39m,\n\u001b[1;32m     92\u001b[0m              model_complexity\u001b[39m=\u001b[39m\u001b[39m1\u001b[39m,\n\u001b[1;32m     93\u001b[0m              min_detection_confidence\u001b[39m=\u001b[39m\u001b[39m0.5\u001b[39m,\n\u001b[1;32m     94\u001b[0m              min_tracking_confidence\u001b[39m=\u001b[39m\u001b[39m0.5\u001b[39m):\n\u001b[1;32m     95\u001b[0m \u001b[39m  \u001b[39m\u001b[39m\"\"\"Initializes a MediaPipe Hand object.\u001b[39;00m\n\u001b[1;32m     96\u001b[0m \n\u001b[1;32m     97\u001b[0m \u001b[39m  Args:\u001b[39;00m\n\u001b[0;32m   (...)\u001b[0m\n\u001b[1;32m    112\u001b[0m \u001b[39m      https://solutions.mediapipe.dev/hands#min_tracking_confidence.\u001b[39;00m\n\u001b[1;32m    113\u001b[0m \u001b[39m  \"\"\"\u001b[39;00m\n\u001b[0;32m--> 114\u001b[0m   \u001b[39msuper\u001b[39;49m()\u001b[39m.\u001b[39;49m\u001b[39m__init__\u001b[39;49m(\n\u001b[1;32m    115\u001b[0m       binary_graph_path\u001b[39m=\u001b[39;49m_BINARYPB_FILE_PATH,\n\u001b[1;32m    116\u001b[0m       side_inputs\u001b[39m=\u001b[39;49m{\n\u001b[1;32m    117\u001b[0m           \u001b[39m'\u001b[39;49m\u001b[39mmodel_complexity\u001b[39;49m\u001b[39m'\u001b[39;49m: model_complexity,\n\u001b[1;32m    118\u001b[0m           \u001b[39m'\u001b[39;49m\u001b[39mnum_hands\u001b[39;49m\u001b[39m'\u001b[39;49m: max_num_hands,\n\u001b[1;32m    119\u001b[0m           \u001b[39m'\u001b[39;49m\u001b[39muse_prev_landmarks\u001b[39;49m\u001b[39m'\u001b[39;49m: \u001b[39mnot\u001b[39;49;00m static_image_mode,\n\u001b[1;32m    120\u001b[0m       },\n\u001b[1;32m    121\u001b[0m       calculator_params\u001b[39m=\u001b[39;49m{\n\u001b[1;32m    122\u001b[0m           \u001b[39m'\u001b[39;49m\u001b[39mpalmdetectioncpu__TensorsToDetectionsCalculator.min_score_thresh\u001b[39;49m\u001b[39m'\u001b[39;49m:\n\u001b[1;32m    123\u001b[0m               min_detection_confidence,\n\u001b[1;32m    124\u001b[0m           \u001b[39m'\u001b[39;49m\u001b[39mhandlandmarkcpu__ThresholdingCalculator.threshold\u001b[39;49m\u001b[39m'\u001b[39;49m:\n\u001b[1;32m    125\u001b[0m               min_tracking_confidence,\n\u001b[1;32m    126\u001b[0m       },\n\u001b[1;32m    127\u001b[0m       outputs\u001b[39m=\u001b[39;49m[\n\u001b[1;32m    128\u001b[0m           \u001b[39m'\u001b[39;49m\u001b[39mmulti_hand_landmarks\u001b[39;49m\u001b[39m'\u001b[39;49m, \u001b[39m'\u001b[39;49m\u001b[39mmulti_hand_world_landmarks\u001b[39;49m\u001b[39m'\u001b[39;49m,\n\u001b[1;32m    129\u001b[0m           \u001b[39m'\u001b[39;49m\u001b[39mmulti_handedness\u001b[39;49m\u001b[39m'\u001b[39;49m\n\u001b[1;32m    130\u001b[0m       ])\n",
      "File \u001b[0;32m~/Downloads/MachineLearning/mp_env/lib/python3.11/site-packages/mediapipe/python/solution_base.py:289\u001b[0m, in \u001b[0;36mSolutionBase.__init__\u001b[0;34m(self, binary_graph_path, graph_config, calculator_params, graph_options, side_inputs, outputs, stream_type_hints)\u001b[0m\n\u001b[1;32m    286\u001b[0m \u001b[39mfor\u001b[39;00m stream_name \u001b[39min\u001b[39;00m \u001b[39mself\u001b[39m\u001b[39m.\u001b[39m_output_stream_type_info\u001b[39m.\u001b[39mkeys():\n\u001b[1;32m    287\u001b[0m   \u001b[39mself\u001b[39m\u001b[39m.\u001b[39m_graph\u001b[39m.\u001b[39mobserve_output_stream(stream_name, callback, \u001b[39mTrue\u001b[39;00m)\n\u001b[0;32m--> 289\u001b[0m \u001b[39mself\u001b[39m\u001b[39m.\u001b[39m_input_side_packets \u001b[39m=\u001b[39m {\n\u001b[1;32m    290\u001b[0m     name: \u001b[39mself\u001b[39;49m\u001b[39m.\u001b[39;49m_make_packet(\u001b[39mself\u001b[39;49m\u001b[39m.\u001b[39;49m_side_input_type_info[name], data)\n\u001b[1;32m    291\u001b[0m     \u001b[39mfor\u001b[39;49;00m name, data \u001b[39min\u001b[39;49;00m (side_inputs \u001b[39mor\u001b[39;49;00m {})\u001b[39m.\u001b[39;49mitems()\n\u001b[1;32m    292\u001b[0m }\n\u001b[1;32m    293\u001b[0m \u001b[39mself\u001b[39m\u001b[39m.\u001b[39m_graph\u001b[39m.\u001b[39mstart_run(\u001b[39mself\u001b[39m\u001b[39m.\u001b[39m_input_side_packets)\n",
      "File \u001b[0;32m~/Downloads/MachineLearning/mp_env/lib/python3.11/site-packages/mediapipe/python/solution_base.py:290\u001b[0m, in \u001b[0;36m<dictcomp>\u001b[0;34m(.0)\u001b[0m\n\u001b[1;32m    286\u001b[0m \u001b[39mfor\u001b[39;00m stream_name \u001b[39min\u001b[39;00m \u001b[39mself\u001b[39m\u001b[39m.\u001b[39m_output_stream_type_info\u001b[39m.\u001b[39mkeys():\n\u001b[1;32m    287\u001b[0m   \u001b[39mself\u001b[39m\u001b[39m.\u001b[39m_graph\u001b[39m.\u001b[39mobserve_output_stream(stream_name, callback, \u001b[39mTrue\u001b[39;00m)\n\u001b[1;32m    289\u001b[0m \u001b[39mself\u001b[39m\u001b[39m.\u001b[39m_input_side_packets \u001b[39m=\u001b[39m {\n\u001b[0;32m--> 290\u001b[0m     name: \u001b[39mself\u001b[39;49m\u001b[39m.\u001b[39;49m_make_packet(\u001b[39mself\u001b[39;49m\u001b[39m.\u001b[39;49m_side_input_type_info[name], data)\n\u001b[1;32m    291\u001b[0m     \u001b[39mfor\u001b[39;00m name, data \u001b[39min\u001b[39;00m (side_inputs \u001b[39mor\u001b[39;00m {})\u001b[39m.\u001b[39mitems()\n\u001b[1;32m    292\u001b[0m }\n\u001b[1;32m    293\u001b[0m \u001b[39mself\u001b[39m\u001b[39m.\u001b[39m_graph\u001b[39m.\u001b[39mstart_run(\u001b[39mself\u001b[39m\u001b[39m.\u001b[39m_input_side_packets)\n",
      "File \u001b[0;32m~/Downloads/MachineLearning/mp_env/lib/python3.11/site-packages/mediapipe/python/solution_base.py:592\u001b[0m, in \u001b[0;36mSolutionBase._make_packet\u001b[0;34m(self, packet_data_type, data)\u001b[0m\n\u001b[1;32m    589\u001b[0m   \u001b[39mreturn\u001b[39;00m \u001b[39mgetattr\u001b[39m(packet_creator, \u001b[39m'\u001b[39m\u001b[39mcreate_\u001b[39m\u001b[39m'\u001b[39m \u001b[39m+\u001b[39m packet_data_type\u001b[39m.\u001b[39mvalue)(\n\u001b[1;32m    590\u001b[0m       data, image_format\u001b[39m=\u001b[39mimage_frame\u001b[39m.\u001b[39mImageFormat\u001b[39m.\u001b[39mSRGB)\n\u001b[1;32m    591\u001b[0m \u001b[39melse\u001b[39;00m:\n\u001b[0;32m--> 592\u001b[0m   \u001b[39mreturn\u001b[39;00m \u001b[39mgetattr\u001b[39;49m(packet_creator, \u001b[39m'\u001b[39;49m\u001b[39mcreate_\u001b[39;49m\u001b[39m'\u001b[39;49m \u001b[39m+\u001b[39;49m packet_data_type\u001b[39m.\u001b[39;49mvalue)(data)\n",
      "\u001b[0;31mTypeError\u001b[0m: create_int(): incompatible function arguments. The following argument types are supported:\n    1. (arg0: int) -> mediapipe.python._framework_bindings.packet.Packet\n\nInvoked with: 0.5"
     ]
    }
   ],
   "source": [
    "import cv2\n",
    "import mediapipe as mp\n",
    "import time\n",
    "class handDetector():\n",
    "    def __init__(self, mode=False, maxHands=2, detectionCon=0.5, trackCon=0.5):\n",
    "        self.mode = mode\n",
    "        self.maxHands = maxHands\n",
    "        self.detectionCon = detectionCon\n",
    "        self.trackCon = trackCon\n",
    "        self.mpHands = mp.solutions.hands\n",
    "        self.hands = self.mpHands.Hands(self.mode, self.maxHands,\n",
    "                                        self.detectionCon, self.trackCon)\n",
    "        self.mpDraw = mp.solutions.drawing_utils\n",
    "    def findHands(self, img, draw=True):\n",
    "        imgRGB = cv2.cvtColor(img, cv2.COLOR_BGR2RGB)\n",
    "        self.results = self.hands.process(imgRGB)\n",
    "        # print(results.multi_hand_landmarks)\n",
    "        if self.results.multi_hand_landmarks:\n",
    "            for handLms in self.results.multi_hand_landmarks:\n",
    "                if draw:\n",
    "                    self.mpDraw.draw_landmarks(img, handLms,\n",
    "                                               self.mpHands.HAND_CONNECTIONS)\n",
    "        return img\n",
    "    def findPosition(self, img, handNo=0, draw=True):\n",
    "        lmList = []\n",
    "        if self.results.multi_hand_landmarks:\n",
    "            myHand = self.results.multi_hand_landmarks[handNo]\n",
    "            for id, lm in enumerate(myHand.landmark):\n",
    "                # print(id, lm)\n",
    "                h, w, c = img.shape\n",
    "                cx, cy = int(lm.x * w), int(lm.y * h)\n",
    "                # print(id, cx, cy)\n",
    "                lmList.append([id, cx, cy])\n",
    "                if draw:\n",
    "                    cv2.circle(img, (cx, cy), 15, (255, 0, 255), cv2.FILLED)\n",
    "        return lmList\n",
    "def main():\n",
    "    pTime = 0\n",
    "    cTime = 0\n",
    "    cap = cv2.VideoCapture(1)\n",
    "    detector = handDetector()\n",
    "    while True:\n",
    "        success, img = cap.read()\n",
    "        img = detector.findHands(img)\n",
    "        lmList = detector.findPosition(img)\n",
    "        if len(lmList) != 0:\n",
    "            print(lmList[4])\n",
    "        cTime = time.time()\n",
    "        fps = 1 / (cTime - pTime)\n",
    "        pTime = cTime\n",
    "        cv2.putText(img, str(int(fps)), (10, 70), cv2.FONT_HERSHEY_PLAIN, 3,\n",
    "                    (255, 0, 255), 3)\n",
    "        cv2.imshow(\"Image\", img)\n",
    "        cv2.waitKey(1)\n",
    "if __name__ == \"__main__\":\n",
    "    main()"
   ]
  }
 ],
 "metadata": {
  "kernelspec": {
   "display_name": "mp_env",
   "language": "python",
   "name": "python3"
  },
  "language_info": {
   "codemirror_mode": {
    "name": "ipython",
    "version": 3
   },
   "file_extension": ".py",
   "mimetype": "text/x-python",
   "name": "python",
   "nbconvert_exporter": "python",
   "pygments_lexer": "ipython3",
   "version": "3.11.2"
  },
  "orig_nbformat": 4
 },
 "nbformat": 4,
 "nbformat_minor": 2
}
